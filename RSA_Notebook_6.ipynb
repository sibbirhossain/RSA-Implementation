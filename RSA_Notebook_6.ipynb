{
  "nbformat": 4,
  "nbformat_minor": 0,
  "metadata": {
    "colab": {
      "provenance": [],
      "authorship_tag": "ABX9TyPBHwgZW6KrtF7MCrb1zpvP",
      "include_colab_link": true
    },
    "kernelspec": {
      "name": "python3",
      "display_name": "Python 3"
    },
    "language_info": {
      "name": "python"
    }
  },
  "cells": [
    {
      "cell_type": "markdown",
      "metadata": {
        "id": "view-in-github",
        "colab_type": "text"
      },
      "source": [
        "<a href=\"https://colab.research.google.com/github/sibbirhossain/RSA-Implementation/blob/main/RSA_Notebook_6.ipynb\" target=\"_parent\"><img src=\"https://colab.research.google.com/assets/colab-badge.svg\" alt=\"Open In Colab\"/></a>"
      ]
    },
    {
      "cell_type": "code",
      "execution_count": 1,
      "metadata": {
        "colab": {
          "base_uri": "https://localhost:8080/"
        },
        "id": "RrDYGa6IhULb",
        "outputId": "3ccc9e56-a326-4eaa-c591-484c4a43f843"
      },
      "outputs": [
        {
          "output_type": "stream",
          "name": "stdout",
          "text": [
            "Requirement already satisfied: sympy in /usr/local/lib/python3.10/dist-packages (1.12)\n",
            "Requirement already satisfied: mpmath>=0.19 in /usr/local/lib/python3.10/dist-packages (from sympy) (1.3.0)\n"
          ]
        }
      ],
      "source": [
        "pip install sympy"
      ]
    },
    {
      "cell_type": "code",
      "source": [
        "import random\n",
        "from sympy import isprime, mod_inverse\n",
        "\n",
        "def generate_large_prime(bits):\n",
        "    \"\"\"Generate a large prime number with a given number of bits.\"\"\"\n",
        "    while True:\n",
        "        prime_candidate = random.getrandbits(bits)\n",
        "        if isprime(prime_candidate):\n",
        "            return prime_candidate\n",
        "\n",
        "def generate_keypair(bits):\n",
        "    \"\"\"Generate RSA key pair with given number of bits.\"\"\"\n",
        "    p = generate_large_prime(bits // 2)\n",
        "    q = generate_large_prime(bits // 2)\n",
        "    n = p * q\n",
        "    phi = (p - 1) * (q - 1)\n",
        "\n",
        "    e = 65537  # Common choice for e\n",
        "    d = mod_inverse(e, phi)\n",
        "\n",
        "    return (e, n), (d, n)\n",
        "\n",
        "def encrypt(message, public_key):\n",
        "    \"\"\"Encrypt a message with the public key.\"\"\"\n",
        "    e, n = public_key\n",
        "    message_int = int.from_bytes(message.encode('utf-8'), byteorder='big')\n",
        "    encrypted_message = pow(message_int, e, n)\n",
        "    return encrypted_message\n",
        "\n",
        "\n"
      ],
      "metadata": {
        "id": "IwqRI2bghYaS"
      },
      "execution_count": 2,
      "outputs": []
    },
    {
      "cell_type": "code",
      "source": [
        "def decrypt(encrypted_message, d, n):\n",
        "    \"\"\"Decrypt an encrypted message with the private key.\"\"\"\n",
        "    decrypted_message_int = pow(encrypted_message, d, n)\n",
        "    decrypted_message = decrypted_message_int.to_bytes((decrypted_message_int.bit_length() + 7) // 8, byteorder='big').decode('utf-8')\n",
        "    return decrypted_message\n",
        "\n",
        "def main():\n",
        "    bits = 1024  # Size of the RSA key in bits\n",
        "    public_key, private_key = generate_keypair(bits)\n",
        "\n",
        "    print(\"Public Key: (e, n) =\", public_key)\n",
        "    print(\"Private Key: (d, n) =\", private_key)\n",
        "\n",
        "    message = input(\"Enter your message: \")\n",
        "    print(\"Original message:\", message)\n",
        "\n",
        "    encrypted_message = encrypt(message, public_key)\n",
        "    print(\"Encrypted message:\", encrypted_message)\n",
        "\n",
        "    # Simulate asking for the private key components for decryption\n",
        "    d = int(input(\"Enter the private key component d: \"))\n",
        "    n = int(input(\"Enter the private key component n: \"))\n",
        "\n",
        "    decrypted_message = decrypt(encrypted_message, d, n)\n",
        "    print(\"Decrypted message:\", decrypted_message)\n",
        "\n",
        "if __name__ == \"__main__\":\n",
        "    main()"
      ],
      "metadata": {
        "colab": {
          "base_uri": "https://localhost:8080/"
        },
        "id": "B2aSV4OfhYTt",
        "outputId": "a1f708a5-f0de-497a-916a-83b66ab63e2e"
      },
      "execution_count": 3,
      "outputs": [
        {
          "output_type": "stream",
          "name": "stdout",
          "text": [
            "Public Key: (e, n) = (65537, 15113847239280832913120027474455943284851379731636794830682110481642958819868828014616889463873003467843876551976702436289544710707009659281617444477987276619649697370751387283224109081162383508384459242930686068020940585620735336029715806620114790918577235619891232157902565948536037556980127616075597167439)\n",
            "Private Key: (d, n) = (8282785868227266962290292609862515205436961631467218870848203000727657795968824129468547568311988533974406369543849195138246911359277338339542123317689102974549041309266849938090152524895408371002813869163086911949747337397288866727767876993313996333734385944093007996987448547705956216804003556387912059073, 15113847239280832913120027474455943284851379731636794830682110481642958819868828014616889463873003467843876551976702436289544710707009659281617444477987276619649697370751387283224109081162383508384459242930686068020940585620735336029715806620114790918577235619891232157902565948536037556980127616075597167439)\n",
            "Enter your message: Modern Crypto\n",
            "Original message: Modern Crypto\n",
            "Encrypted message: 1769679114586351866325018993676569683537425348446311216812278507083368924742734605112104554335158282130324769047748172747562740434438769794088451295589678279030590663101062621357507924892172809512208850608103598900585263026958457127827523539842512877590315937090102326093240950291206472312462832187408408042\n",
            "Enter the private key component d: 8282785868227266962290292609862515205436961631467218870848203000727657795968824129468547568311988533974406369543849195138246911359277338339542123317689102974549041309266849938090152524895408371002813869163086911949747337397288866727767876993313996333734385944093007996987448547705956216804003556387912059073\n",
            "Enter the private key component n: 15113847239280832913120027474455943284851379731636794830682110481642958819868828014616889463873003467843876551976702436289544710707009659281617444477987276619649697370751387283224109081162383508384459242930686068020940585620735336029715806620114790918577235619891232157902565948536037556980127616075597167439\n",
            "Decrypted message: Modern Crypto\n"
          ]
        }
      ]
    }
  ]
}