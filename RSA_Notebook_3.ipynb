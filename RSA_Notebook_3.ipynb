{
  "nbformat": 4,
  "nbformat_minor": 0,
  "metadata": {
    "colab": {
      "provenance": [],
      "authorship_tag": "ABX9TyM+6/2WIkPDWlkk/PJf8Tcj",
      "include_colab_link": true
    },
    "kernelspec": {
      "name": "python3",
      "display_name": "Python 3"
    },
    "language_info": {
      "name": "python"
    }
  },
  "cells": [
    {
      "cell_type": "markdown",
      "metadata": {
        "id": "view-in-github",
        "colab_type": "text"
      },
      "source": [
        "<a href=\"https://colab.research.google.com/github/sibbirhossain/RSA-Implementation/blob/main/RSA_Notebook_3.ipynb\" target=\"_parent\"><img src=\"https://colab.research.google.com/assets/colab-badge.svg\" alt=\"Open In Colab\"/></a>"
      ]
    },
    {
      "cell_type": "code",
      "execution_count": 1,
      "metadata": {
        "colab": {
          "base_uri": "https://localhost:8080/"
        },
        "id": "DapTKIiHPQe7",
        "outputId": "111169db-be3f-4f2a-9b55-8a005ef2aacf"
      },
      "outputs": [
        {
          "output_type": "stream",
          "name": "stdout",
          "text": [
            "Public Key: (65537, 74621926064635323091870424898600313507210184584430646890052469271114068711714423589767734609427957070869899248437218138932019587248247292777050839438500027760960887685457698332148287933515449469326047215605038524692482472513782879430915887433861609002900973920533818215940549500207379252756174566659455104971)\n",
            "Private Key: (69435498958963505695842688117650248230719921209816587708457507684072785421636159411496040281858121032329648839101552352844231784634216036866657220968897075279998518222414183192446332000499780025545576905365179987982813989248012594913465249021340238122525343636316172227989436085032176733827374890456123447665, 74621926064635323091870424898600313507210184584430646890052469271114068711714423589767734609427957070869899248437218138932019587248247292777050839438500027760960887685457698332148287933515449469326047215605038524692482472513782879430915887433861609002900973920533818215940549500207379252756174566659455104971)\n",
            "Original message: Hello, RSA!\n",
            "Encrypted message: 68573108320571068830269768136443227506154249104729480772299234219821304046840320791497751397890425210276920709776791056145251216387537196307584505283325037343780103308605958223398396692550707788334344488757205577978013217396537588342338698423074175179881076829234995452426640096018999330815656397332040954965\n",
            "Decrypted message: Hello, RSA!\n"
          ]
        }
      ],
      "source": [
        "import random\n",
        "from sympy import isprime, mod_inverse\n",
        "\n",
        "def generate_large_prime(bits):\n",
        "    \"\"\" Generate a large prime number with a given number of bits. \"\"\"\n",
        "    while True:\n",
        "        prime_candidate = random.getrandbits(bits)\n",
        "        if isprime(prime_candidate):\n",
        "            return prime_candidate\n",
        "\n",
        "def generate_keypair(bits):\n",
        "    \"\"\" Generate RSA key pair with given number of bits. \"\"\"\n",
        "    p = generate_large_prime(bits // 2)\n",
        "    q = generate_large_prime(bits // 2)\n",
        "    n = p * q\n",
        "    phi = (p - 1) * (q - 1)\n",
        "\n",
        "    e = 65537  # Common choice for e\n",
        "    d = mod_inverse(e, phi)\n",
        "\n",
        "    return (e, n), (d, n)\n",
        "\n",
        "def encrypt(message, public_key):\n",
        "    \"\"\" Encrypt a message with the public key. \"\"\"\n",
        "    e, n = public_key\n",
        "    message_int = int.from_bytes(message.encode('utf-8'), byteorder='big')\n",
        "    encrypted_message = pow(message_int, e, n)\n",
        "    return encrypted_message\n",
        "\n",
        "def decrypt(encrypted_message, private_key):\n",
        "    \"\"\" Decrypt an encrypted message with the private key. \"\"\"\n",
        "    d, n = private_key\n",
        "    decrypted_message_int = pow(encrypted_message, d, n)\n",
        "    decrypted_message = decrypted_message_int.to_bytes((decrypted_message_int.bit_length() + 7) // 8, byteorder='big').decode('utf-8')\n",
        "    return decrypted_message\n",
        "\n",
        "# Example usage:\n",
        "bits = 1024  # Size of the RSA key in bits\n",
        "public_key, private_key = generate_keypair(bits)\n",
        "\n",
        "print(\"Public Key:\", public_key)\n",
        "print(\"Private Key:\", private_key)\n",
        "\n",
        "message = \"Hello, RSA!\"\n",
        "print(\"Original message:\", message)\n",
        "\n",
        "encrypted_message = encrypt(message, public_key)\n",
        "print(\"Encrypted message:\", encrypted_message)\n",
        "\n",
        "decrypted_message = decrypt(encrypted_message, private_key)\n",
        "print(\"Decrypted message:\", decrypted_message)\n"
      ]
    }
  ]
}