{
  "cells": [
    {
      "cell_type": "markdown",
      "metadata": {
        "id": "view-in-github",
        "colab_type": "text"
      },
      "source": [
        "<a href=\"https://colab.research.google.com/github/sibbirhossain/RSA-Implementation/blob/main/RSA_Notebook_5.ipynb\" target=\"_parent\"><img src=\"https://colab.research.google.com/assets/colab-badge.svg\" alt=\"Open In Colab\"/></a>"
      ]
    },
    {
      "cell_type": "code",
      "execution_count": 11,
      "metadata": {
        "colab": {
          "base_uri": "https://localhost:8080/"
        },
        "id": "CXJ_2IX9Qf1l",
        "outputId": "4f76790a-3b4a-4c12-966d-8601bb05eb87"
      },
      "outputs": [
        {
          "output_type": "stream",
          "name": "stdout",
          "text": [
            "Requirement already satisfied: sympy in /usr/local/lib/python3.10/dist-packages (1.12)\n",
            "Requirement already satisfied: mpmath>=0.19 in /usr/local/lib/python3.10/dist-packages (from sympy) (1.3.0)\n"
          ]
        }
      ],
      "source": [
        "pip install sympy"
      ]
    },
    {
      "cell_type": "code",
      "source": [
        "import random\n",
        "from sympy import isprime, mod_inverse"
      ],
      "metadata": {
        "id": "n3eFrQUTPkqS"
      },
      "execution_count": 12,
      "outputs": []
    },
    {
      "cell_type": "code",
      "source": [
        "def generate_large_prime(bits):\n",
        "    \"\"\"Generate a large prime number with a given number of bits.\"\"\"\n",
        "    while True:\n",
        "        prime_candidate = random.getrandbits(bits)\n",
        "        if isprime(prime_candidate):\n",
        "            return prime_candidate"
      ],
      "metadata": {
        "id": "kKG3D5bvQdZX"
      },
      "execution_count": 13,
      "outputs": []
    },
    {
      "cell_type": "code",
      "source": [
        "def generate_keypair(bits):\n",
        "    \"\"\"Generate RSA key pair with given number of bits.\"\"\"\n",
        "    p = generate_large_prime(bits // 2)\n",
        "    q = generate_large_prime(bits // 2)\n",
        "    n = p * q\n",
        "    phi = (p - 1) * (q - 1)\n",
        "\n",
        "    e = 65537  # Common choice for e\n",
        "    d = mod_inverse(e, phi)\n",
        "\n",
        "    return (e, n), (d, n)"
      ],
      "metadata": {
        "id": "huL5XVlNQgxH"
      },
      "execution_count": 14,
      "outputs": []
    },
    {
      "cell_type": "code",
      "source": [
        "def encrypt(message, public_key):\n",
        "    \"\"\"Encrypt a message with the public key.\"\"\"\n",
        "    e, n = public_key\n",
        "    message_int = int.from_bytes(message.encode('utf-8'), byteorder='big')\n",
        "    encrypted_message = pow(message_int, e, n)\n",
        "    return encrypted_message"
      ],
      "metadata": {
        "id": "7UYAotVbQgtM"
      },
      "execution_count": 15,
      "outputs": []
    },
    {
      "cell_type": "code",
      "source": [
        "def decrypt(encrypted_message, private_key):\n",
        "    \"\"\"Decrypt an encrypted message with the private key.\"\"\"\n",
        "    d, n = private_key\n",
        "    decrypted_message_int = pow(encrypted_message, d, n)\n",
        "    decrypted_message = decrypted_message_int.to_bytes((decrypted_message_int.bit_length() + 7) // 8, byteorder='big').decode('utf-8')\n",
        "    return decrypted_message"
      ],
      "metadata": {
        "id": "LCdM65GCQgjk"
      },
      "execution_count": 16,
      "outputs": []
    },
    {
      "cell_type": "code",
      "source": [
        "def main():\n",
        "    bits = 1024  # Size of the RSA key in bits\n",
        "    public_key, private_key = generate_keypair(bits)\n",
        "\n",
        "    print(\"Public Key:\", public_key)\n",
        "    print(\"Private Key:\", private_key)\n",
        "\n",
        "    message = input(\"Enter your message: \")\n",
        "    print(\"Original message:\", message)\n",
        "\n",
        "    encrypted_message = encrypt(message, public_key)\n",
        "    print(\"Encrypted message:\", encrypted_message)\n",
        "\n",
        "    # Simulating user input for the private key\n",
        "    private_key_input = private_key\n",
        "    decrypted_message = decrypt(encrypted_message, private_key_input)\n",
        "    print(\"Decrypted message:\", decrypted_message)\n",
        "\n",
        "if __name__ == \"__main__\":\n",
        "    main()"
      ],
      "metadata": {
        "colab": {
          "base_uri": "https://localhost:8080/"
        },
        "id": "EaNxXpsmQgbG",
        "outputId": "dbc19428-a850-40a1-aab6-104ef75a73a1"
      },
      "execution_count": 17,
      "outputs": [
        {
          "output_type": "stream",
          "name": "stdout",
          "text": [
            "Public Key: (65537, 123932121304546700412027846112503474781983796943332157678058866613397532806433747604791998199368907433721565733550660060977714072440764214305701592636263344653250711810141792362143837833758797274085237397691598271054521481185863779113522260295556201519066218415747324117877361692913931866772778654106382504593)\n",
            "Private Key: (43499253648602892252893427287271578351312591072027551201128951717472320172519271497826118598350290335198394442358756631867042385344994418750843855156811651451869819504296577256955806573415383588411549020206581012362463209149268491972339739864174640014594389527463273124345141186865297690798582458613687007313, 123932121304546700412027846112503474781983796943332157678058866613397532806433747604791998199368907433721565733550660060977714072440764214305701592636263344653250711810141792362143837833758797274085237397691598271054521481185863779113522260295556201519066218415747324117877361692913931866772778654106382504593)\n",
            "Enter your message: Hi Sibbir\n",
            "Original message: Hi Sibbir\n",
            "Encrypted message: 87060517386463989573474236023048315024311081203309806810510343080291948432962823843173450196187343666306958328739985535653601559804693640242231559988477680728074626129180612224229665971635397593803913161355037744071080226815712839827563966403759654609249536040818701174869537284139424681762195874104960931102\n",
            "Decrypted message: Hi Sibbir\n"
          ]
        }
      ]
    }
  ],
  "metadata": {
    "colab": {
      "provenance": [],
      "authorship_tag": "ABX9TyM7zMQ4dpe+lQG603THhxj8",
      "include_colab_link": true
    },
    "kernelspec": {
      "display_name": "Python 3",
      "name": "python3"
    },
    "language_info": {
      "name": "python"
    }
  },
  "nbformat": 4,
  "nbformat_minor": 0
}