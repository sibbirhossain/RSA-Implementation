{
  "nbformat": 4,
  "nbformat_minor": 0,
  "metadata": {
    "colab": {
      "provenance": [],
      "authorship_tag": "ABX9TyOIL/KncSyDY9ATUwbh6mmQ",
      "include_colab_link": true
    },
    "kernelspec": {
      "name": "python3",
      "display_name": "Python 3"
    },
    "language_info": {
      "name": "python"
    }
  },
  "cells": [
    {
      "cell_type": "markdown",
      "metadata": {
        "id": "view-in-github",
        "colab_type": "text"
      },
      "source": [
        "<a href=\"https://colab.research.google.com/github/sibbirhossain/RSA-Implementation/blob/main/RSA_Notebook_4.ipynb\" target=\"_parent\"><img src=\"https://colab.research.google.com/assets/colab-badge.svg\" alt=\"Open In Colab\"/></a>"
      ]
    },
    {
      "cell_type": "code",
      "execution_count": 1,
      "metadata": {
        "colab": {
          "base_uri": "https://localhost:8080/"
        },
        "id": "65DYxyUORd4B",
        "outputId": "fb40af77-3559-4c20-d7fc-40d74ac9ff31"
      },
      "outputs": [
        {
          "output_type": "stream",
          "name": "stdout",
          "text": [
            "Public Key: (65537, 72704894855611283790860659059628608122941801395868431893038761937536041624564305911683890764611823149469355005458050425115135440713622519663446497209709298138458835111803886390675525871499721810603647670284431347323289107804572442997151727206069444816380942438412148156402035423438350664709527929276839480957)\n",
            "Private Key: (37642092060145360182914888117433790106650262648018855952556544109473052296612470267014756512108332259405292959552575018303884227823274268195071533589005379602685539598445109044554847686526080522157738059364665268542710852862910470301293000793917676781383638939187851115732750608600045880496939700028024787073, 72704894855611283790860659059628608122941801395868431893038761937536041624564305911683890764611823149469355005458050425115135440713622519663446497209709298138458835111803886390675525871499721810603647670284431347323289107804572442997151727206069444816380942438412148156402035423438350664709527929276839480957)\n",
            "Enter your message: Sibbir\n",
            "Original message: Sibbir\n",
            "Encrypted message: 14909848624110199180686797001760006331789048922790049917754812896919814716601763951734298500608990963124072085327692400400840294784372320425073661099853387981469462305400041893495815008149457544856757540377668801868451190482142087282637263454719126548709149777378869477020365453279402293772869829549772552549\n",
            "Decrypted message: Sibbir\n"
          ]
        }
      ],
      "source": [
        "import random\n",
        "from sympy import isprime, mod_inverse\n",
        "\n",
        "def generate_large_prime(bits):\n",
        "    \"\"\"Generate a large prime number with a given number of bits.\"\"\"\n",
        "    while True:\n",
        "        prime_candidate = random.getrandbits(bits)\n",
        "        if isprime(prime_candidate):\n",
        "            return prime_candidate\n",
        "\n",
        "def generate_keypair(bits):\n",
        "    \"\"\"Generate RSA key pair with given number of bits.\"\"\"\n",
        "    p = generate_large_prime(bits // 2)\n",
        "    q = generate_large_prime(bits // 2)\n",
        "    n = p * q\n",
        "    phi = (p - 1) * (q - 1)\n",
        "\n",
        "    e = 65537  # Common choice for e\n",
        "    d = mod_inverse(e, phi)\n",
        "\n",
        "    return (e, n), (d, n)\n",
        "\n",
        "def encrypt(message, public_key):\n",
        "    \"\"\"Encrypt a message with the public key.\"\"\"\n",
        "    e, n = public_key\n",
        "    message_int = int.from_bytes(message.encode('utf-8'), byteorder='big')\n",
        "    encrypted_message = pow(message_int, e, n)\n",
        "    return encrypted_message\n",
        "\n",
        "def decrypt(encrypted_message, private_key):\n",
        "    \"\"\"Decrypt an encrypted message with the private key.\"\"\"\n",
        "    d, n = private_key\n",
        "    decrypted_message_int = pow(encrypted_message, d, n)\n",
        "    decrypted_message = decrypted_message_int.to_bytes((decrypted_message_int.bit_length() + 7) // 8, byteorder='big').decode('utf-8')\n",
        "    return decrypted_message\n",
        "\n",
        "def main():\n",
        "    bits = 1024  # Size of the RSA key in bits\n",
        "    public_key, private_key = generate_keypair(bits)\n",
        "\n",
        "    print(\"Public Key:\", public_key)\n",
        "    print(\"Private Key:\", private_key)\n",
        "\n",
        "    message = input(\"Enter your message: \")\n",
        "    print(\"Original message:\", message)\n",
        "\n",
        "    encrypted_message = encrypt(message, public_key)\n",
        "    print(\"Encrypted message:\", encrypted_message)\n",
        "\n",
        "    decrypted_message = decrypt(encrypted_message, private_key)\n",
        "    print(\"Decrypted message:\", decrypted_message)\n",
        "\n",
        "if __name__ == \"__main__\":\n",
        "    main()\n"
      ]
    }
  ]
}