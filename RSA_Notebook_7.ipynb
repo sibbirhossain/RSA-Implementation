{
  "nbformat": 4,
  "nbformat_minor": 0,
  "metadata": {
    "colab": {
      "provenance": [],
      "authorship_tag": "ABX9TyOvQ9bBqoanZveLiB7q5qbj",
      "include_colab_link": true
    },
    "kernelspec": {
      "name": "python3",
      "display_name": "Python 3"
    },
    "language_info": {
      "name": "python"
    }
  },
  "cells": [
    {
      "cell_type": "markdown",
      "metadata": {
        "id": "view-in-github",
        "colab_type": "text"
      },
      "source": [
        "<a href=\"https://colab.research.google.com/github/sibbirhossain/RSA-Implementation/blob/main/RSA_Notebook_7.ipynb\" target=\"_parent\"><img src=\"https://colab.research.google.com/assets/colab-badge.svg\" alt=\"Open In Colab\"/></a>"
      ]
    },
    {
      "cell_type": "code",
      "source": [
        "import random\n",
        "from sympy import isprime, mod_inverse\n",
        "\n",
        "# Secure random number generator\n",
        "def secure_random_bits(bits):\n",
        "    return random.SystemRandom().getrandbits(bits)\n",
        "\n",
        "# Generate a large prime number\n",
        "def generate_large_prime(bits):\n",
        "    while True:\n",
        "        prime_candidate = secure_random_bits(bits)\n",
        "        if isprime(prime_candidate):\n",
        "            return prime_candidate\n",
        "\n",
        "# Key generation\n",
        "def generate_keypair(bits):\n",
        "    p = generate_large_prime(bits // 2)\n",
        "    q = generate_large_prime(bits // 2)\n",
        "    n = p * q\n",
        "    phi = (p - 1) * (q - 1)\n",
        "\n",
        "    e = 65537  # Common choice for e\n",
        "    d = mod_inverse(e, phi)\n",
        "\n",
        "    return (e, n), (d, n)\n",
        "\n",
        "# Montgomery Exponentiation for constant-time operations\n",
        "def montgomery_exp(base, exp, mod):\n",
        "    result = 1\n",
        "    base = base % mod\n",
        "    while exp > 0:\n",
        "        if exp % 2 == 1:\n",
        "            result = (result * base) % mod\n",
        "        exp = exp >> 1\n",
        "        base = (base * base) % mod\n",
        "    return result\n",
        "\n",
        "# Encrypt function\n",
        "def encrypt(message, public_key):\n",
        "    e, n = public_key\n",
        "    message_int = int.from_bytes(message.encode('utf-8'), byteorder='big')\n",
        "    encrypted_message = montgomery_exp(message_int, e, n)\n",
        "    return encrypted_message\n",
        "\n",
        "# Decrypt function\n",
        "def decrypt(encrypted_message, private_key):\n",
        "    d, n = private_key\n",
        "    decrypted_message_int = montgomery_exp(encrypted_message, d, n)\n",
        "    decrypted_message = decrypted_message_int.to_bytes((decrypted_message_int.bit_length() + 7) // 8, byteorder='big')\n",
        "    return decrypted_message.decode('utf-8')\n",
        "\n",
        "# Main function\n",
        "def main():\n",
        "    bits = 2048  # Size of the RSA key in bits\n",
        "    public_key, private_key = generate_keypair(bits)\n",
        "\n",
        "    print(\"Public Key: (e, n) =\", public_key)\n",
        "    print(\"Private Key: (d, n) =\", private_key)\n",
        "\n",
        "    message = input(\"Enter your message: \")\n",
        "    print(\"Original message:\", message)\n",
        "\n",
        "    encrypted_message = encrypt(message, public_key)\n",
        "    print(\"Encrypted message:\", encrypted_message)\n",
        "\n",
        "    decrypted_message = decrypt(encrypted_message, private_key)\n",
        "    print(\"Decrypted message:\", decrypted_message)\n",
        "\n",
        "if __name__ == \"__main__\":\n",
        "    main()\n"
      ],
      "metadata": {
        "colab": {
          "base_uri": "https://localhost:8080/"
        },
        "id": "Fsi5po85Bmlz",
        "outputId": "1720a9b5-6cca-4959-c5d3-739e48c64d08"
      },
      "execution_count": 1,
      "outputs": [
        {
          "output_type": "stream",
          "name": "stdout",
          "text": [
            "Public Key: (e, n) = (65537, 7113698090637433470057536085559883950683716958684342395361133253140549422368444718474173760844734858748332571915431797234006804934267473708795758078549139422573787342833252498371248936498866868335742989461237548516067393181315719185635470454220734188786219911505300423154621846862751184261884319108973182552174815905856619322872487015877801791562814839241788855677727031354318500969240448324061336573995246007190373409743502038643827819015555095009096336863282312916912528062074856373455421187137239029167392277811614840653270672871065905402710466095627853718652675002906562654646347680446730723623083977926998299819)\n",
            "Private Key: (d, n) = (5329873466050778883382443419888719069081931638956273015844755269984289764355367822928076570162793777089573436055410646498641014124652269123136519964767969132957576329327573697720729306024136897262462242878300003735057405852909741965183919094764800202511096881374563478312424989647095097438260917057660713533589352399582724554963648321443539288531358667235252356569499621145058504743980201501828569169840226998112013534425033862664923332439507901946305335026548083295927637416880585368231011044325221531425622321590422822591446097110962114386237503892393345192394420668917176935316207706914970189984320813172331319553, 7113698090637433470057536085559883950683716958684342395361133253140549422368444718474173760844734858748332571915431797234006804934267473708795758078549139422573787342833252498371248936498866868335742989461237548516067393181315719185635470454220734188786219911505300423154621846862751184261884319108973182552174815905856619322872487015877801791562814839241788855677727031354318500969240448324061336573995246007190373409743502038643827819015555095009096336863282312916912528062074856373455421187137239029167392277811614840653270672871065905402710466095627853718652675002906562654646347680446730723623083977926998299819)\n",
            "Enter your message: Hi\n",
            "Original message: Hi\n",
            "Encrypted message: 2946021884202911587087443713633446399035895517612409705724150889094820417996229475499999653606676010786365375121353815617694064318512481665671191157388778214708326451803917392872191177906204575175052252101414563053423154068852494963783769729057496711782989574569641028504888824446778762337420222652370434711770171102704622572828247248252358360877507655870530920554403504912040578076004626722341891359992827765539332142443922364241945189270252817052229718408238161306286962464604594003532610361638699207604640665051269482078826347093025803369721194994559744375901140429625568391639237641004572520172673753685878624361\n",
            "Decrypted message: Hi\n"
          ]
        }
      ]
    }
  ]
}